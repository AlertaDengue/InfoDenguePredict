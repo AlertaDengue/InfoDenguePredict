{
 "cells": [
  {
   "cell_type": "markdown",
   "metadata": {},
   "source": [
    "# Exploring LSTM models \n",
    "\n",
    "In this notebook we run lstm models on Infodengue data."
   ]
  },
  {
   "cell_type": "code",
   "execution_count": 1,
   "metadata": {},
   "outputs": [
    {
     "name": "stderr",
     "output_type": "stream",
     "text": [
      "Using TensorFlow backend.\n"
     ]
    }
   ],
   "source": [
    "%load_ext autoreload\n",
    "%autoreload 2\n",
    "import numpy as np\n",
    "import pandas as pd\n",
    "import matplotlib.pyplot as plt\n",
    "#import os\n",
    "#os.chdir(\"..\")\n",
    "\n",
    "from lstm import *\n",
    "#plot_predicted_vs_data, loss_and_metrics, evaluate, calculate_metrics, train_evaluate_model, \n",
    "#from infodenguepredict.models.deeplearning.preprocessing import *\n",
    "#from infodenguepredict.models.deeplearning.lstm import lstm.build_model\n",
    "#try:\n",
    "#    from infodenguepredict.models.deeplearning.lstm import *\n",
    "#except Exception as e:\n",
    "#    print(e)\n",
    "from infodengue import get_temperature_data, get_alerta_table, get_tweet_data, combined_data, get_cluster_data\n",
    "import pickle\n",
    "import getpass, os\n",
    "from keras.layers.core import Dense, Activation, Dropout\n",
    "from keras.layers.recurrent import LSTM\n",
    "from keras.models import Sequential\n",
    "from keras.utils.vis_utils import plot_model\n",
    "from keras.callbacks import TensorBoard, EarlyStopping\n",
    "from keras import backend as K\n",
    "from sklearn.metrics import *\n",
    "import pandas as pd\n",
    "from time import time"
   ]
  },
  {
   "cell_type": "markdown",
   "metadata": {},
   "source": [
    "## Loading the data"
   ]
  },
  {
   "cell_type": "markdown",
   "metadata": {},
   "source": [
    "To download the data we follow the instructions in the [README.rst](https://github.com/fccoelho/InfoDenguePredict/blob/master/README.rst) file."
   ]
  },
  {
   "cell_type": "markdown",
   "metadata": {},
   "source": [
    "We perform our experiments on data from Rio de Janeiro. Let us first read all our data."
   ]
  },
  {
   "cell_type": "code",
   "execution_count": 2,
   "metadata": {},
   "outputs": [
    {
     "data": {
      "text/html": [
       "<div>\n",
       "<style scoped>\n",
       "    .dataframe tbody tr th:only-of-type {\n",
       "        vertical-align: middle;\n",
       "    }\n",
       "\n",
       "    .dataframe tbody tr th {\n",
       "        vertical-align: top;\n",
       "    }\n",
       "\n",
       "    .dataframe thead th {\n",
       "        text-align: right;\n",
       "    }\n",
       "</style>\n",
       "<table border=\"1\" class=\"dataframe\">\n",
       "  <thead>\n",
       "    <tr style=\"text-align: right;\">\n",
       "      <th></th>\n",
       "      <th>casos_3306206</th>\n",
       "      <th>casos_est_3306206</th>\n",
       "      <th>casos_est_min_3306206</th>\n",
       "      <th>casos_est_max_3306206</th>\n",
       "      <th>p_rt1_3306206</th>\n",
       "      <th>p_inc100k_3306206</th>\n",
       "      <th>temp_min_3306206</th>\n",
       "      <th>temp_max_3306206</th>\n",
       "      <th>umid_min_3306206</th>\n",
       "      <th>pressao_min_3306206</th>\n",
       "      <th>...</th>\n",
       "      <th>casos_3300456</th>\n",
       "      <th>casos_est_3300456</th>\n",
       "      <th>casos_est_min_3300456</th>\n",
       "      <th>casos_est_max_3300456</th>\n",
       "      <th>p_rt1_3300456</th>\n",
       "      <th>p_inc100k_3300456</th>\n",
       "      <th>temp_min_3300456</th>\n",
       "      <th>temp_max_3300456</th>\n",
       "      <th>umid_min_3300456</th>\n",
       "      <th>pressao_min_3300456</th>\n",
       "    </tr>\n",
       "  </thead>\n",
       "  <tbody>\n",
       "    <tr>\n",
       "      <th>2010-01-03</th>\n",
       "      <td>1</td>\n",
       "      <td>1.0</td>\n",
       "      <td>1</td>\n",
       "      <td>1</td>\n",
       "      <td>0.0</td>\n",
       "      <td>2.80725</td>\n",
       "      <td>24.333333</td>\n",
       "      <td>33.000000</td>\n",
       "      <td>42.000000</td>\n",
       "      <td>1009.666667</td>\n",
       "      <td>...</td>\n",
       "      <td>3</td>\n",
       "      <td>3.0</td>\n",
       "      <td>3</td>\n",
       "      <td>3</td>\n",
       "      <td>0.0</td>\n",
       "      <td>0.607114</td>\n",
       "      <td>24.333333</td>\n",
       "      <td>33.000000</td>\n",
       "      <td>42.000000</td>\n",
       "      <td>1009.666667</td>\n",
       "    </tr>\n",
       "    <tr>\n",
       "      <th>2010-01-10</th>\n",
       "      <td>0</td>\n",
       "      <td>0.0</td>\n",
       "      <td>0</td>\n",
       "      <td>0</td>\n",
       "      <td>0.0</td>\n",
       "      <td>0.00000</td>\n",
       "      <td>25.428571</td>\n",
       "      <td>34.000000</td>\n",
       "      <td>43.285714</td>\n",
       "      <td>1008.000000</td>\n",
       "      <td>...</td>\n",
       "      <td>6</td>\n",
       "      <td>6.0</td>\n",
       "      <td>6</td>\n",
       "      <td>6</td>\n",
       "      <td>0.0</td>\n",
       "      <td>1.214230</td>\n",
       "      <td>25.428571</td>\n",
       "      <td>34.000000</td>\n",
       "      <td>43.285714</td>\n",
       "      <td>1008.000000</td>\n",
       "    </tr>\n",
       "    <tr>\n",
       "      <th>2010-01-17</th>\n",
       "      <td>0</td>\n",
       "      <td>0.0</td>\n",
       "      <td>0</td>\n",
       "      <td>0</td>\n",
       "      <td>0.0</td>\n",
       "      <td>0.00000</td>\n",
       "      <td>24.142857</td>\n",
       "      <td>34.000000</td>\n",
       "      <td>43.857143</td>\n",
       "      <td>1010.285714</td>\n",
       "      <td>...</td>\n",
       "      <td>1</td>\n",
       "      <td>1.0</td>\n",
       "      <td>1</td>\n",
       "      <td>1</td>\n",
       "      <td>0.0</td>\n",
       "      <td>0.202371</td>\n",
       "      <td>24.142857</td>\n",
       "      <td>34.000000</td>\n",
       "      <td>43.857143</td>\n",
       "      <td>1010.285714</td>\n",
       "    </tr>\n",
       "    <tr>\n",
       "      <th>2010-01-24</th>\n",
       "      <td>0</td>\n",
       "      <td>0.0</td>\n",
       "      <td>0</td>\n",
       "      <td>0</td>\n",
       "      <td>0.0</td>\n",
       "      <td>0.00000</td>\n",
       "      <td>23.714286</td>\n",
       "      <td>34.285714</td>\n",
       "      <td>39.285714</td>\n",
       "      <td>1009.000000</td>\n",
       "      <td>...</td>\n",
       "      <td>4</td>\n",
       "      <td>4.0</td>\n",
       "      <td>4</td>\n",
       "      <td>4</td>\n",
       "      <td>0.0</td>\n",
       "      <td>0.809486</td>\n",
       "      <td>23.714286</td>\n",
       "      <td>34.285714</td>\n",
       "      <td>39.285714</td>\n",
       "      <td>1009.000000</td>\n",
       "    </tr>\n",
       "    <tr>\n",
       "      <th>2010-01-31</th>\n",
       "      <td>0</td>\n",
       "      <td>0.0</td>\n",
       "      <td>0</td>\n",
       "      <td>0</td>\n",
       "      <td>0.0</td>\n",
       "      <td>0.00000</td>\n",
       "      <td>23.857143</td>\n",
       "      <td>33.857143</td>\n",
       "      <td>41.285714</td>\n",
       "      <td>1009.857143</td>\n",
       "      <td>...</td>\n",
       "      <td>9</td>\n",
       "      <td>9.0</td>\n",
       "      <td>9</td>\n",
       "      <td>9</td>\n",
       "      <td>0.0</td>\n",
       "      <td>1.821340</td>\n",
       "      <td>23.857143</td>\n",
       "      <td>33.857143</td>\n",
       "      <td>41.285714</td>\n",
       "      <td>1009.857143</td>\n",
       "    </tr>\n",
       "  </tbody>\n",
       "</table>\n",
       "<p>5 rows × 230 columns</p>\n",
       "</div>"
      ],
      "text/plain": [
       "            casos_3306206  casos_est_3306206  casos_est_min_3306206  \\\n",
       "2010-01-03              1                1.0                      1   \n",
       "2010-01-10              0                0.0                      0   \n",
       "2010-01-17              0                0.0                      0   \n",
       "2010-01-24              0                0.0                      0   \n",
       "2010-01-31              0                0.0                      0   \n",
       "\n",
       "            casos_est_max_3306206  p_rt1_3306206  p_inc100k_3306206  \\\n",
       "2010-01-03                      1            0.0            2.80725   \n",
       "2010-01-10                      0            0.0            0.00000   \n",
       "2010-01-17                      0            0.0            0.00000   \n",
       "2010-01-24                      0            0.0            0.00000   \n",
       "2010-01-31                      0            0.0            0.00000   \n",
       "\n",
       "            temp_min_3306206  temp_max_3306206  umid_min_3306206  \\\n",
       "2010-01-03         24.333333         33.000000         42.000000   \n",
       "2010-01-10         25.428571         34.000000         43.285714   \n",
       "2010-01-17         24.142857         34.000000         43.857143   \n",
       "2010-01-24         23.714286         34.285714         39.285714   \n",
       "2010-01-31         23.857143         33.857143         41.285714   \n",
       "\n",
       "            pressao_min_3306206  ...  casos_3300456  casos_est_3300456  \\\n",
       "2010-01-03          1009.666667  ...              3                3.0   \n",
       "2010-01-10          1008.000000  ...              6                6.0   \n",
       "2010-01-17          1010.285714  ...              1                1.0   \n",
       "2010-01-24          1009.000000  ...              4                4.0   \n",
       "2010-01-31          1009.857143  ...              9                9.0   \n",
       "\n",
       "            casos_est_min_3300456  casos_est_max_3300456  p_rt1_3300456  \\\n",
       "2010-01-03                      3                      3            0.0   \n",
       "2010-01-10                      6                      6            0.0   \n",
       "2010-01-17                      1                      1            0.0   \n",
       "2010-01-24                      4                      4            0.0   \n",
       "2010-01-31                      9                      9            0.0   \n",
       "\n",
       "            p_inc100k_3300456  temp_min_3300456  temp_max_3300456  \\\n",
       "2010-01-03           0.607114         24.333333         33.000000   \n",
       "2010-01-10           1.214230         25.428571         34.000000   \n",
       "2010-01-17           0.202371         24.142857         34.000000   \n",
       "2010-01-24           0.809486         23.714286         34.285714   \n",
       "2010-01-31           1.821340         23.857143         33.857143   \n",
       "\n",
       "            umid_min_3300456  pressao_min_3300456  \n",
       "2010-01-03         42.000000          1009.666667  \n",
       "2010-01-10         43.285714          1008.000000  \n",
       "2010-01-17         43.857143          1010.285714  \n",
       "2010-01-24         39.285714          1009.000000  \n",
       "2010-01-31         41.285714          1009.857143  \n",
       "\n",
       "[5 rows x 230 columns]"
      ]
     },
     "execution_count": 2,
     "metadata": {},
     "output_type": "execute_result"
    }
   ],
   "source": [
    "data_cluster = pd.read_csv(\"~/data/infodengue/3304557_cluster.csv\",index_col=0)\n",
    "data_cluster.head()"
   ]
  },
  {
   "cell_type": "markdown",
   "metadata": {},
   "source": [
    "The city of Rio is coded as cluster `3304557`. We can easily filter the dataframe above to get only the data corresponding to this cluster."
   ]
  },
  {
   "cell_type": "code",
   "execution_count": 3,
   "metadata": {},
   "outputs": [
    {
     "data": {
      "text/html": [
       "<div>\n",
       "<style scoped>\n",
       "    .dataframe tbody tr th:only-of-type {\n",
       "        vertical-align: middle;\n",
       "    }\n",
       "\n",
       "    .dataframe tbody tr th {\n",
       "        vertical-align: top;\n",
       "    }\n",
       "\n",
       "    .dataframe thead th {\n",
       "        text-align: right;\n",
       "    }\n",
       "</style>\n",
       "<table border=\"1\" class=\"dataframe\">\n",
       "  <thead>\n",
       "    <tr style=\"text-align: right;\">\n",
       "      <th></th>\n",
       "      <th>casos_3306206</th>\n",
       "      <th>casos_est_3306206</th>\n",
       "      <th>casos_est_min_3306206</th>\n",
       "      <th>casos_est_max_3306206</th>\n",
       "      <th>p_rt1_3306206</th>\n",
       "      <th>p_inc100k_3306206</th>\n",
       "      <th>temp_min_3306206</th>\n",
       "      <th>temp_max_3306206</th>\n",
       "      <th>umid_min_3306206</th>\n",
       "      <th>pressao_min_3306206</th>\n",
       "      <th>...</th>\n",
       "      <th>casos_3300456</th>\n",
       "      <th>casos_est_3300456</th>\n",
       "      <th>casos_est_min_3300456</th>\n",
       "      <th>casos_est_max_3300456</th>\n",
       "      <th>p_rt1_3300456</th>\n",
       "      <th>p_inc100k_3300456</th>\n",
       "      <th>temp_min_3300456</th>\n",
       "      <th>temp_max_3300456</th>\n",
       "      <th>umid_min_3300456</th>\n",
       "      <th>pressao_min_3300456</th>\n",
       "    </tr>\n",
       "  </thead>\n",
       "  <tbody>\n",
       "    <tr>\n",
       "      <th>2019-04-14</th>\n",
       "      <td>3</td>\n",
       "      <td>3.0</td>\n",
       "      <td>3</td>\n",
       "      <td>3</td>\n",
       "      <td>0.123280</td>\n",
       "      <td>8.42176</td>\n",
       "      <td>23.428571</td>\n",
       "      <td>25.285714</td>\n",
       "      <td>85.986071</td>\n",
       "      <td>1012.857143</td>\n",
       "      <td>...</td>\n",
       "      <td>4</td>\n",
       "      <td>4.0</td>\n",
       "      <td>4</td>\n",
       "      <td>4</td>\n",
       "      <td>0.015841</td>\n",
       "      <td>0.809486</td>\n",
       "      <td>23.428571</td>\n",
       "      <td>25.285714</td>\n",
       "      <td>85.986071</td>\n",
       "      <td>1012.857143</td>\n",
       "    </tr>\n",
       "    <tr>\n",
       "      <th>2019-04-21</th>\n",
       "      <td>3</td>\n",
       "      <td>3.0</td>\n",
       "      <td>3</td>\n",
       "      <td>3</td>\n",
       "      <td>0.173497</td>\n",
       "      <td>8.42176</td>\n",
       "      <td>22.571429</td>\n",
       "      <td>25.571429</td>\n",
       "      <td>76.046814</td>\n",
       "      <td>1011.857143</td>\n",
       "      <td>...</td>\n",
       "      <td>0</td>\n",
       "      <td>0.0</td>\n",
       "      <td>0</td>\n",
       "      <td>0</td>\n",
       "      <td>0.000000</td>\n",
       "      <td>0.000000</td>\n",
       "      <td>22.571429</td>\n",
       "      <td>25.571429</td>\n",
       "      <td>76.046814</td>\n",
       "      <td>1011.857143</td>\n",
       "    </tr>\n",
       "    <tr>\n",
       "      <th>2019-04-28</th>\n",
       "      <td>11</td>\n",
       "      <td>12.0</td>\n",
       "      <td>11</td>\n",
       "      <td>13</td>\n",
       "      <td>0.958076</td>\n",
       "      <td>33.68700</td>\n",
       "      <td>23.857143</td>\n",
       "      <td>26.857143</td>\n",
       "      <td>78.433171</td>\n",
       "      <td>1013.428571</td>\n",
       "      <td>...</td>\n",
       "      <td>0</td>\n",
       "      <td>0.0</td>\n",
       "      <td>0</td>\n",
       "      <td>0</td>\n",
       "      <td>0.000000</td>\n",
       "      <td>0.000000</td>\n",
       "      <td>23.857143</td>\n",
       "      <td>26.857143</td>\n",
       "      <td>78.433171</td>\n",
       "      <td>1013.428571</td>\n",
       "    </tr>\n",
       "    <tr>\n",
       "      <th>2019-05-05</th>\n",
       "      <td>15</td>\n",
       "      <td>20.0</td>\n",
       "      <td>16</td>\n",
       "      <td>21</td>\n",
       "      <td>0.995579</td>\n",
       "      <td>56.14510</td>\n",
       "      <td>23.142857</td>\n",
       "      <td>25.857143</td>\n",
       "      <td>80.172271</td>\n",
       "      <td>1013.000000</td>\n",
       "      <td>...</td>\n",
       "      <td>0</td>\n",
       "      <td>0.0</td>\n",
       "      <td>0</td>\n",
       "      <td>0</td>\n",
       "      <td>0.000000</td>\n",
       "      <td>0.000000</td>\n",
       "      <td>23.142857</td>\n",
       "      <td>25.857143</td>\n",
       "      <td>80.172271</td>\n",
       "      <td>1013.000000</td>\n",
       "    </tr>\n",
       "    <tr>\n",
       "      <th>2019-05-12</th>\n",
       "      <td>8</td>\n",
       "      <td>14.0</td>\n",
       "      <td>10</td>\n",
       "      <td>15</td>\n",
       "      <td>0.734682</td>\n",
       "      <td>39.30160</td>\n",
       "      <td>22.142857</td>\n",
       "      <td>24.857143</td>\n",
       "      <td>77.838957</td>\n",
       "      <td>1014.000000</td>\n",
       "      <td>...</td>\n",
       "      <td>0</td>\n",
       "      <td>0.0</td>\n",
       "      <td>0</td>\n",
       "      <td>0</td>\n",
       "      <td>0.000000</td>\n",
       "      <td>0.000000</td>\n",
       "      <td>22.142857</td>\n",
       "      <td>24.857143</td>\n",
       "      <td>77.838957</td>\n",
       "      <td>1014.000000</td>\n",
       "    </tr>\n",
       "  </tbody>\n",
       "</table>\n",
       "<p>5 rows × 230 columns</p>\n",
       "</div>"
      ],
      "text/plain": [
       "            casos_3306206  casos_est_3306206  casos_est_min_3306206  \\\n",
       "2019-04-14              3                3.0                      3   \n",
       "2019-04-21              3                3.0                      3   \n",
       "2019-04-28             11               12.0                     11   \n",
       "2019-05-05             15               20.0                     16   \n",
       "2019-05-12              8               14.0                     10   \n",
       "\n",
       "            casos_est_max_3306206  p_rt1_3306206  p_inc100k_3306206  \\\n",
       "2019-04-14                      3       0.123280            8.42176   \n",
       "2019-04-21                      3       0.173497            8.42176   \n",
       "2019-04-28                     13       0.958076           33.68700   \n",
       "2019-05-05                     21       0.995579           56.14510   \n",
       "2019-05-12                     15       0.734682           39.30160   \n",
       "\n",
       "            temp_min_3306206  temp_max_3306206  umid_min_3306206  \\\n",
       "2019-04-14         23.428571         25.285714         85.986071   \n",
       "2019-04-21         22.571429         25.571429         76.046814   \n",
       "2019-04-28         23.857143         26.857143         78.433171   \n",
       "2019-05-05         23.142857         25.857143         80.172271   \n",
       "2019-05-12         22.142857         24.857143         77.838957   \n",
       "\n",
       "            pressao_min_3306206  ...  casos_3300456  casos_est_3300456  \\\n",
       "2019-04-14          1012.857143  ...              4                4.0   \n",
       "2019-04-21          1011.857143  ...              0                0.0   \n",
       "2019-04-28          1013.428571  ...              0                0.0   \n",
       "2019-05-05          1013.000000  ...              0                0.0   \n",
       "2019-05-12          1014.000000  ...              0                0.0   \n",
       "\n",
       "            casos_est_min_3300456  casos_est_max_3300456  p_rt1_3300456  \\\n",
       "2019-04-14                      4                      4       0.015841   \n",
       "2019-04-21                      0                      0       0.000000   \n",
       "2019-04-28                      0                      0       0.000000   \n",
       "2019-05-05                      0                      0       0.000000   \n",
       "2019-05-12                      0                      0       0.000000   \n",
       "\n",
       "            p_inc100k_3300456  temp_min_3300456  temp_max_3300456  \\\n",
       "2019-04-14           0.809486         23.428571         25.285714   \n",
       "2019-04-21           0.000000         22.571429         25.571429   \n",
       "2019-04-28           0.000000         23.857143         26.857143   \n",
       "2019-05-05           0.000000         23.142857         25.857143   \n",
       "2019-05-12           0.000000         22.142857         24.857143   \n",
       "\n",
       "            umid_min_3300456  pressao_min_3300456  \n",
       "2019-04-14         85.986071          1012.857143  \n",
       "2019-04-21         76.046814          1011.857143  \n",
       "2019-04-28         78.433171          1013.428571  \n",
       "2019-05-05         80.172271          1013.000000  \n",
       "2019-05-12         77.838957          1014.000000  \n",
       "\n",
       "[5 rows x 230 columns]"
      ]
     },
     "execution_count": 3,
     "metadata": {},
     "output_type": "execute_result"
    }
   ],
   "source": [
    "data_cluster.tail()"
   ]
  },
  {
   "cell_type": "code",
   "execution_count": 4,
   "metadata": {},
   "outputs": [
    {
     "name": "stdout",
     "output_type": "stream",
     "text": [
      "(488, 10)\n",
      "Index(['casos_3304557', 'casos_est_3304557', 'casos_est_min_3304557',\n",
      "       'casos_est_max_3304557', 'p_rt1_3304557', 'p_inc100k_3304557',\n",
      "       'temp_min_3304557', 'temp_max_3304557', 'umid_min_3304557',\n",
      "       'pressao_min_3304557'],\n",
      "      dtype='object')\n"
     ]
    },
    {
     "data": {
      "text/html": [
       "<div>\n",
       "<style scoped>\n",
       "    .dataframe tbody tr th:only-of-type {\n",
       "        vertical-align: middle;\n",
       "    }\n",
       "\n",
       "    .dataframe tbody tr th {\n",
       "        vertical-align: top;\n",
       "    }\n",
       "\n",
       "    .dataframe thead th {\n",
       "        text-align: right;\n",
       "    }\n",
       "</style>\n",
       "<table border=\"1\" class=\"dataframe\">\n",
       "  <thead>\n",
       "    <tr style=\"text-align: right;\">\n",
       "      <th></th>\n",
       "      <th>casos_3304557</th>\n",
       "      <th>casos_est_3304557</th>\n",
       "      <th>casos_est_min_3304557</th>\n",
       "      <th>casos_est_max_3304557</th>\n",
       "      <th>p_rt1_3304557</th>\n",
       "      <th>p_inc100k_3304557</th>\n",
       "      <th>temp_min_3304557</th>\n",
       "      <th>temp_max_3304557</th>\n",
       "      <th>umid_min_3304557</th>\n",
       "      <th>pressao_min_3304557</th>\n",
       "    </tr>\n",
       "  </thead>\n",
       "  <tbody>\n",
       "    <tr>\n",
       "      <th>2010-01-03</th>\n",
       "      <td>30</td>\n",
       "      <td>30.0</td>\n",
       "      <td>30</td>\n",
       "      <td>30</td>\n",
       "      <td>0.0</td>\n",
       "      <td>0.461621</td>\n",
       "      <td>24.333333</td>\n",
       "      <td>33.000000</td>\n",
       "      <td>42.000000</td>\n",
       "      <td>1009.666667</td>\n",
       "    </tr>\n",
       "    <tr>\n",
       "      <th>2010-01-10</th>\n",
       "      <td>46</td>\n",
       "      <td>46.0</td>\n",
       "      <td>46</td>\n",
       "      <td>46</td>\n",
       "      <td>0.0</td>\n",
       "      <td>0.707819</td>\n",
       "      <td>25.428571</td>\n",
       "      <td>34.000000</td>\n",
       "      <td>43.285714</td>\n",
       "      <td>1008.000000</td>\n",
       "    </tr>\n",
       "    <tr>\n",
       "      <th>2010-01-17</th>\n",
       "      <td>30</td>\n",
       "      <td>30.0</td>\n",
       "      <td>30</td>\n",
       "      <td>30</td>\n",
       "      <td>0.0</td>\n",
       "      <td>0.461621</td>\n",
       "      <td>24.142857</td>\n",
       "      <td>34.000000</td>\n",
       "      <td>43.857143</td>\n",
       "      <td>1010.285714</td>\n",
       "    </tr>\n",
       "    <tr>\n",
       "      <th>2010-01-24</th>\n",
       "      <td>51</td>\n",
       "      <td>51.0</td>\n",
       "      <td>51</td>\n",
       "      <td>51</td>\n",
       "      <td>0.0</td>\n",
       "      <td>0.784756</td>\n",
       "      <td>23.714286</td>\n",
       "      <td>34.285714</td>\n",
       "      <td>39.285714</td>\n",
       "      <td>1009.000000</td>\n",
       "    </tr>\n",
       "    <tr>\n",
       "      <th>2010-01-31</th>\n",
       "      <td>58</td>\n",
       "      <td>58.0</td>\n",
       "      <td>58</td>\n",
       "      <td>58</td>\n",
       "      <td>0.0</td>\n",
       "      <td>0.892467</td>\n",
       "      <td>23.857143</td>\n",
       "      <td>33.857143</td>\n",
       "      <td>41.285714</td>\n",
       "      <td>1009.857143</td>\n",
       "    </tr>\n",
       "  </tbody>\n",
       "</table>\n",
       "</div>"
      ],
      "text/plain": [
       "            casos_3304557  casos_est_3304557  casos_est_min_3304557  \\\n",
       "2010-01-03             30               30.0                     30   \n",
       "2010-01-10             46               46.0                     46   \n",
       "2010-01-17             30               30.0                     30   \n",
       "2010-01-24             51               51.0                     51   \n",
       "2010-01-31             58               58.0                     58   \n",
       "\n",
       "            casos_est_max_3304557  p_rt1_3304557  p_inc100k_3304557  \\\n",
       "2010-01-03                     30            0.0           0.461621   \n",
       "2010-01-10                     46            0.0           0.707819   \n",
       "2010-01-17                     30            0.0           0.461621   \n",
       "2010-01-24                     51            0.0           0.784756   \n",
       "2010-01-31                     58            0.0           0.892467   \n",
       "\n",
       "            temp_min_3304557  temp_max_3304557  umid_min_3304557  \\\n",
       "2010-01-03         24.333333         33.000000         42.000000   \n",
       "2010-01-10         25.428571         34.000000         43.285714   \n",
       "2010-01-17         24.142857         34.000000         43.857143   \n",
       "2010-01-24         23.714286         34.285714         39.285714   \n",
       "2010-01-31         23.857143         33.857143         41.285714   \n",
       "\n",
       "            pressao_min_3304557  \n",
       "2010-01-03          1009.666667  \n",
       "2010-01-10          1008.000000  \n",
       "2010-01-17          1010.285714  \n",
       "2010-01-24          1009.000000  \n",
       "2010-01-31          1009.857143  "
      ]
     },
     "execution_count": 4,
     "metadata": {},
     "output_type": "execute_result"
    }
   ],
   "source": [
    "cluster_rj = data_cluster[[c for c in data_cluster.columns if \"3304557\" in c.split(\"_\")]]\n",
    "print(cluster_rj.shape)\n",
    "print(cluster_rj.columns)\n",
    "cluster_rj.head()"
   ]
  },
  {
   "cell_type": "markdown",
   "metadata": {},
   "source": [
    "Our goal is to predict the first column, `casos_3304557` from the columns `p_rt1_3304557`, `p_inc100k_3304557`, `temp_min_3304557`, `temp_max_3304557`, `umid_min_3304557`, `pressao_min_3304557`."
   ]
  },
  {
   "cell_type": "code",
   "execution_count": 5,
   "metadata": {},
   "outputs": [
    {
     "data": {
      "text/html": [
       "<div>\n",
       "<style scoped>\n",
       "    .dataframe tbody tr th:only-of-type {\n",
       "        vertical-align: middle;\n",
       "    }\n",
       "\n",
       "    .dataframe tbody tr th {\n",
       "        vertical-align: top;\n",
       "    }\n",
       "\n",
       "    .dataframe thead th {\n",
       "        text-align: right;\n",
       "    }\n",
       "</style>\n",
       "<table border=\"1\" class=\"dataframe\">\n",
       "  <thead>\n",
       "    <tr style=\"text-align: right;\">\n",
       "      <th></th>\n",
       "      <th>casos_3304557</th>\n",
       "      <th>p_rt1_3304557</th>\n",
       "      <th>p_inc100k_3304557</th>\n",
       "      <th>temp_min_3304557</th>\n",
       "      <th>temp_max_3304557</th>\n",
       "      <th>umid_min_3304557</th>\n",
       "      <th>pressao_min_3304557</th>\n",
       "    </tr>\n",
       "  </thead>\n",
       "  <tbody>\n",
       "    <tr>\n",
       "      <th>2010-01-03</th>\n",
       "      <td>30</td>\n",
       "      <td>0.0</td>\n",
       "      <td>0.461621</td>\n",
       "      <td>24.333333</td>\n",
       "      <td>33.000000</td>\n",
       "      <td>42.000000</td>\n",
       "      <td>1009.666667</td>\n",
       "    </tr>\n",
       "    <tr>\n",
       "      <th>2010-01-10</th>\n",
       "      <td>46</td>\n",
       "      <td>0.0</td>\n",
       "      <td>0.707819</td>\n",
       "      <td>25.428571</td>\n",
       "      <td>34.000000</td>\n",
       "      <td>43.285714</td>\n",
       "      <td>1008.000000</td>\n",
       "    </tr>\n",
       "    <tr>\n",
       "      <th>2010-01-17</th>\n",
       "      <td>30</td>\n",
       "      <td>0.0</td>\n",
       "      <td>0.461621</td>\n",
       "      <td>24.142857</td>\n",
       "      <td>34.000000</td>\n",
       "      <td>43.857143</td>\n",
       "      <td>1010.285714</td>\n",
       "    </tr>\n",
       "    <tr>\n",
       "      <th>2010-01-24</th>\n",
       "      <td>51</td>\n",
       "      <td>0.0</td>\n",
       "      <td>0.784756</td>\n",
       "      <td>23.714286</td>\n",
       "      <td>34.285714</td>\n",
       "      <td>39.285714</td>\n",
       "      <td>1009.000000</td>\n",
       "    </tr>\n",
       "    <tr>\n",
       "      <th>2010-01-31</th>\n",
       "      <td>58</td>\n",
       "      <td>0.0</td>\n",
       "      <td>0.892467</td>\n",
       "      <td>23.857143</td>\n",
       "      <td>33.857143</td>\n",
       "      <td>41.285714</td>\n",
       "      <td>1009.857143</td>\n",
       "    </tr>\n",
       "  </tbody>\n",
       "</table>\n",
       "</div>"
      ],
      "text/plain": [
       "            casos_3304557  p_rt1_3304557  p_inc100k_3304557  temp_min_3304557  \\\n",
       "2010-01-03             30            0.0           0.461621         24.333333   \n",
       "2010-01-10             46            0.0           0.707819         25.428571   \n",
       "2010-01-17             30            0.0           0.461621         24.142857   \n",
       "2010-01-24             51            0.0           0.784756         23.714286   \n",
       "2010-01-31             58            0.0           0.892467         23.857143   \n",
       "\n",
       "            temp_max_3304557  umid_min_3304557  pressao_min_3304557  \n",
       "2010-01-03         33.000000         42.000000          1009.666667  \n",
       "2010-01-10         34.000000         43.285714          1008.000000  \n",
       "2010-01-17         34.000000         43.857143          1010.285714  \n",
       "2010-01-24         34.285714         39.285714          1009.000000  \n",
       "2010-01-31         33.857143         41.285714          1009.857143  "
      ]
     },
     "execution_count": 5,
     "metadata": {},
     "output_type": "execute_result"
    }
   ],
   "source": [
    "usecols = ['casos_3304557', 'p_rt1_3304557', 'p_inc100k_3304557',\n",
    "       'temp_min_3304557', 'temp_max_3304557', 'umid_min_3304557',\n",
    "       'pressao_min_3304557']\n",
    "data = cluster_rj[usecols]\n",
    "timestamps = pd.to_datetime(data.index)\n",
    "data.head()\n"
   ]
  },
  {
   "cell_type": "code",
   "execution_count": 6,
   "metadata": {},
   "outputs": [
    {
     "data": {
      "text/plain": [
       "DatetimeIndex(['2010-01-03', '2010-01-10', '2010-01-17', '2010-01-24',\n",
       "               '2010-01-31', '2010-02-07', '2010-02-14', '2010-02-21',\n",
       "               '2010-02-28', '2010-03-07',\n",
       "               ...\n",
       "               '2019-03-10', '2019-03-17', '2019-03-24', '2019-03-31',\n",
       "               '2019-04-07', '2019-04-14', '2019-04-21', '2019-04-28',\n",
       "               '2019-05-05', '2019-05-12'],\n",
       "              dtype='datetime64[ns]', length=488, freq=None)"
      ]
     },
     "execution_count": 6,
     "metadata": {},
     "output_type": "execute_result"
    }
   ],
   "source": [
    "timestamps"
   ]
  },
  {
   "cell_type": "markdown",
   "metadata": {},
   "source": [
    "Let us plot the features of our dataset."
   ]
  },
  {
   "cell_type": "code",
   "execution_count": 7,
   "metadata": {},
   "outputs": [
    {
     "data": {
      "text/plain": [
       "<matplotlib.axes._subplots.AxesSubplot at 0x7fbec5598a90>"
      ]
     },
     "execution_count": 7,
     "metadata": {},
     "output_type": "execute_result"
    },
    {
     "data": {
      "image/png": "[encoded data removed]",
      "text/plain": [
       "<Figure size 432x288 with 1 Axes>"
      ]
     },
     "metadata": {
      "needs_background": "light"
     },
     "output_type": "display_data"
    }
   ],
   "source": [
    "data.plot()"
   ]
  },
  {
   "cell_type": "markdown",
   "metadata": {},
   "source": [
    "## Normalizing and splitting train/tests sets"
   ]
  },
  {
   "cell_type": "code",
   "execution_count": 8,
   "metadata": {},
   "outputs": [
    {
     "data": {
      "text/html": [
       "<div>\n",
       "<style scoped>\n",
       "    .dataframe tbody tr th:only-of-type {\n",
       "        vertical-align: middle;\n",
       "    }\n",
       "\n",
       "    .dataframe tbody tr th {\n",
       "        vertical-align: top;\n",
       "    }\n",
       "\n",
       "    .dataframe thead th {\n",
       "        text-align: right;\n",
       "    }\n",
       "</style>\n",
       "<table border=\"1\" class=\"dataframe\">\n",
       "  <thead>\n",
       "    <tr style=\"text-align: right;\">\n",
       "      <th></th>\n",
       "      <th>casos_3304557</th>\n",
       "      <th>p_rt1_3304557</th>\n",
       "      <th>p_inc100k_3304557</th>\n",
       "      <th>temp_min_3304557</th>\n",
       "      <th>temp_max_3304557</th>\n",
       "      <th>umid_min_3304557</th>\n",
       "      <th>pressao_min_3304557</th>\n",
       "    </tr>\n",
       "  </thead>\n",
       "  <tbody>\n",
       "    <tr>\n",
       "      <th>2010-01-03</th>\n",
       "      <td>0.002018</td>\n",
       "      <td>0.0</td>\n",
       "      <td>0.002018</td>\n",
       "      <td>0.920721</td>\n",
       "      <td>0.891892</td>\n",
       "      <td>0.488451</td>\n",
       "      <td>0.982712</td>\n",
       "    </tr>\n",
       "    <tr>\n",
       "      <th>2010-01-10</th>\n",
       "      <td>0.003094</td>\n",
       "      <td>0.0</td>\n",
       "      <td>0.003094</td>\n",
       "      <td>0.962162</td>\n",
       "      <td>0.918919</td>\n",
       "      <td>0.503404</td>\n",
       "      <td>0.981090</td>\n",
       "    </tr>\n",
       "    <tr>\n",
       "      <th>2010-01-17</th>\n",
       "      <td>0.002018</td>\n",
       "      <td>0.0</td>\n",
       "      <td>0.002018</td>\n",
       "      <td>0.913514</td>\n",
       "      <td>0.918919</td>\n",
       "      <td>0.510049</td>\n",
       "      <td>0.983315</td>\n",
       "    </tr>\n",
       "    <tr>\n",
       "      <th>2010-01-24</th>\n",
       "      <td>0.003430</td>\n",
       "      <td>0.0</td>\n",
       "      <td>0.003430</td>\n",
       "      <td>0.897297</td>\n",
       "      <td>0.926641</td>\n",
       "      <td>0.456885</td>\n",
       "      <td>0.982063</td>\n",
       "    </tr>\n",
       "    <tr>\n",
       "      <th>2010-01-31</th>\n",
       "      <td>0.003901</td>\n",
       "      <td>0.0</td>\n",
       "      <td>0.003901</td>\n",
       "      <td>0.902703</td>\n",
       "      <td>0.915058</td>\n",
       "      <td>0.480144</td>\n",
       "      <td>0.982898</td>\n",
       "    </tr>\n",
       "  </tbody>\n",
       "</table>\n",
       "</div>"
      ],
      "text/plain": [
       "            casos_3304557  p_rt1_3304557  p_inc100k_3304557  temp_min_3304557  \\\n",
       "2010-01-03       0.002018            0.0           0.002018          0.920721   \n",
       "2010-01-10       0.003094            0.0           0.003094          0.962162   \n",
       "2010-01-17       0.002018            0.0           0.002018          0.913514   \n",
       "2010-01-24       0.003430            0.0           0.003430          0.897297   \n",
       "2010-01-31       0.003901            0.0           0.003901          0.902703   \n",
       "\n",
       "            temp_max_3304557  umid_min_3304557  pressao_min_3304557  \n",
       "2010-01-03          0.891892          0.488451             0.982712  \n",
       "2010-01-10          0.918919          0.503404             0.981090  \n",
       "2010-01-17          0.918919          0.510049             0.983315  \n",
       "2010-01-24          0.926641          0.456885             0.982063  \n",
       "2010-01-31          0.915058          0.480144             0.982898  "
      ]
     },
     "execution_count": 8,
     "metadata": {},
     "output_type": "execute_result"
    }
   ],
   "source": [
    "### Normalizing data\n",
    "min_values = np.min(data,axis=0)\n",
    "max_values = np.max(data,axis=0)\n",
    "data, _ = normalize_data(data)\n",
    "data.index=pd.to_datetime(data.index)\n",
    "data.head()"
   ]
  },
  {
   "cell_type": "code",
   "execution_count": 9,
   "metadata": {},
   "outputs": [
    {
     "data": {
      "text/plain": [
       "casos_3304557          14868.000000\n",
       "p_rt1_3304557              1.000000\n",
       "p_inc100k_3304557        228.779000\n",
       "temp_min_3304557          26.428571\n",
       "temp_max_3304557          37.000000\n",
       "umid_min_3304557          85.986071\n",
       "pressao_min_3304557     1027.428571\n",
       "dtype: float64"
      ]
     },
     "execution_count": 9,
     "metadata": {},
     "output_type": "execute_result"
    }
   ],
   "source": [
    "max_values"
   ]
  },
  {
   "cell_type": "code",
   "execution_count": 10,
   "metadata": {},
   "outputs": [
    {
     "data": {
      "text/plain": [
       "casos_3304557           17.000000\n",
       "p_rt1_3304557            0.000000\n",
       "p_inc100k_3304557        0.261585\n",
       "temp_min_3304557        14.285714\n",
       "temp_max_3304557        17.714286\n",
       "umid_min_3304557        20.428571\n",
       "pressao_min_3304557    752.714286\n",
       "dtype: float64"
      ]
     },
     "execution_count": 10,
     "metadata": {},
     "output_type": "execute_result"
    }
   ],
   "source": [
    "min_values"
   ]
  },
  {
   "cell_type": "code",
   "execution_count": 11,
   "metadata": {},
   "outputs": [
    {
     "data": {
      "text/plain": [
       "casos_3304557          0.001143\n",
       "p_rt1_3304557          0.000000\n",
       "p_inc100k_3304557      0.001143\n",
       "temp_min_3304557       0.540541\n",
       "temp_max_3304557       0.478764\n",
       "umid_min_3304557       0.237580\n",
       "pressao_min_3304557    0.732620\n",
       "dtype: float64"
      ]
     },
     "execution_count": 11,
     "metadata": {},
     "output_type": "execute_result"
    }
   ],
   "source": [
    "np.min(data,axis=0)"
   ]
  },
  {
   "cell_type": "code",
   "execution_count": 12,
   "metadata": {},
   "outputs": [
    {
     "data": {
      "text/plain": [
       "17.0"
      ]
     },
     "execution_count": 12,
     "metadata": {},
     "output_type": "execute_result"
    }
   ],
   "source": [
    "np.min(data,axis=0).iloc[0]*max_values.iloc[0]"
   ]
  },
  {
   "cell_type": "code",
   "execution_count": 13,
   "metadata": {},
   "outputs": [],
   "source": [
    "data.index = timestamps"
   ]
  },
  {
   "cell_type": "code",
   "execution_count": 14,
   "metadata": {},
   "outputs": [
    {
     "data": {
      "text/plain": [
       "DatetimeIndex(['2010-01-03', '2010-01-10', '2010-01-17', '2010-01-24',\n",
       "               '2010-01-31', '2010-02-07', '2010-02-14', '2010-02-21',\n",
       "               '2010-02-28', '2010-03-07',\n",
       "               ...\n",
       "               '2019-03-10', '2019-03-17', '2019-03-24', '2019-03-31',\n",
       "               '2019-04-07', '2019-04-14', '2019-04-21', '2019-04-28',\n",
       "               '2019-05-05', '2019-05-12'],\n",
       "              dtype='datetime64[ns]', length=488, freq=None)"
      ]
     },
     "execution_count": 14,
     "metadata": {},
     "output_type": "execute_result"
    }
   ],
   "source": [
    "data.index"
   ]
  },
  {
   "cell_type": "code",
   "execution_count": 15,
   "metadata": {},
   "outputs": [
    {
     "name": "stdout",
     "output_type": "stream",
     "text": [
      "train size:  234\n"
     ]
    }
   ],
   "source": [
    "### Splitting train/test sets\n",
    "X_train, y_train, X_test, y_test = split_data(data, look_back=10, ratio=0.5, predict_n=1, Y_column=0)\n",
    "#timestamps_train = "
   ]
  },
  {
   "cell_type": "markdown",
   "metadata": {},
   "source": [
    "We are looking back 10 weeks to get our training data:"
   ]
  },
  {
   "cell_type": "code",
   "execution_count": 16,
   "metadata": {},
   "outputs": [
    {
     "data": {
      "text/plain": [
       "(234, 10, 7)"
      ]
     },
     "execution_count": 16,
     "metadata": {},
     "output_type": "execute_result"
    }
   ],
   "source": [
    "X_train.shape"
   ]
  },
  {
   "cell_type": "code",
   "execution_count": 17,
   "metadata": {},
   "outputs": [
    {
     "data": {
      "text/plain": [
       "(244, 10, 7)"
      ]
     },
     "execution_count": 17,
     "metadata": {},
     "output_type": "execute_result"
    }
   ],
   "source": [
    "X_test.shape"
   ]
  },
  {
   "cell_type": "code",
   "execution_count": 18,
   "metadata": {},
   "outputs": [
    {
     "data": {
      "text/plain": [
       "(234, 1)"
      ]
     },
     "execution_count": 18,
     "metadata": {},
     "output_type": "execute_result"
    }
   ],
   "source": [
    "y_train.shape"
   ]
  },
  {
   "cell_type": "code",
   "execution_count": 19,
   "metadata": {},
   "outputs": [
    {
     "data": {
      "text/plain": [
       "(244, 1)"
      ]
     },
     "execution_count": 19,
     "metadata": {},
     "output_type": "execute_result"
    }
   ],
   "source": [
    "y_test.shape"
   ]
  },
  {
   "cell_type": "markdown",
   "metadata": {},
   "source": [
    "## LSTM model\n",
    "An LSTM model can be retrieved from `lstm.py`."
   ]
  },
  {
   "cell_type": "code",
   "execution_count": 20,
   "metadata": {},
   "outputs": [
    {
     "name": "stderr",
     "output_type": "stream",
     "text": [
      "WARNING: Logging before flag parsing goes to stderr.\n",
      "W0810 18:32:24.945885 140457456830208 deprecation_wrapper.py:119] From /home/rio/anaconda3/envs/infodengue/lib/python3.7/site-packages/keras/backend/tensorflow_backend.py:74: The name tf.get_default_graph is deprecated. Please use tf.compat.v1.get_default_graph instead.\n",
      "\n",
      "W0810 18:32:24.954881 140457456830208 deprecation_wrapper.py:119] From /home/rio/anaconda3/envs/infodengue/lib/python3.7/site-packages/keras/backend/tensorflow_backend.py:517: The name tf.placeholder is deprecated. Please use tf.compat.v1.placeholder instead.\n",
      "\n",
      "W0810 18:32:24.956668 140457456830208 deprecation_wrapper.py:119] From /home/rio/anaconda3/envs/infodengue/lib/python3.7/site-packages/keras/backend/tensorflow_backend.py:4138: The name tf.random_uniform is deprecated. Please use tf.random.uniform instead.\n",
      "\n",
      "W0810 18:32:24.995128 140457456830208 deprecation.py:506] From /home/rio/anaconda3/envs/infodengue/lib/python3.7/site-packages/keras/backend/tensorflow_backend.py:3445: calling dropout (from tensorflow.python.ops.nn_ops) with keep_prob is deprecated and will be removed in a future version.\n",
      "Instructions for updating:\n",
      "Please use `rate` instead of `keep_prob`. Rate should be set to `rate = 1 - keep_prob`.\n",
      "W0810 18:32:25.044998 140457456830208 variables.py:2445] Variable *= will be deprecated. Use `var.assign(var * other)` if you want assignment to the variable value or `x = x * y` if you want a new python Tensor object.\n",
      "W0810 18:32:25.455947 140457456830208 deprecation_wrapper.py:119] From /home/rio/anaconda3/envs/infodengue/lib/python3.7/site-packages/keras/optimizers.py:790: The name tf.train.Optimizer is deprecated. Please use tf.compat.v1.train.Optimizer instead.\n",
      "\n",
      "W0810 18:32:25.466781 140457456830208 deprecation_wrapper.py:119] From /home/rio/anaconda3/envs/infodengue/lib/python3.7/site-packages/keras/backend/tensorflow_backend.py:1521: The name tf.log is deprecated. Please use tf.math.log instead.\n",
      "\n"
     ]
    },
    {
     "name": "stdout",
     "output_type": "stream",
     "text": [
      "Compilation Time :  0.030444860458374023\n",
      "_________________________________________________________________\n",
      "Layer (type)                 Output Shape              Param #   \n",
      "=================================================================\n",
      "input_1 (InputLayer)         (39, 10, 7)               0         \n",
      "_________________________________________________________________\n",
      "lstm_1 (LSTM)                (39, 10, 4)               192       \n",
      "_________________________________________________________________\n",
      "dropout_1 (Dropout)          (39, 10, 4)               0         \n",
      "_________________________________________________________________\n",
      "lstm_2 (LSTM)                (39, 10, 4)               144       \n",
      "_________________________________________________________________\n",
      "dropout_2 (Dropout)          (39, 10, 4)               0         \n",
      "_________________________________________________________________\n",
      "lstm_3 (LSTM)                (39, 4)                   144       \n",
      "_________________________________________________________________\n",
      "dropout_3 (Dropout)          (39, 4)                   0         \n",
      "_________________________________________________________________\n",
      "dense_1 (Dense)              (39, 1)                   5         \n",
      "=================================================================\n",
      "Total params: 485\n",
      "Trainable params: 485\n",
      "Non-trainable params: 0\n",
      "_________________________________________________________________\n",
      "None\n"
     ]
    }
   ],
   "source": [
    "model = build_model(hidden=4, features=7, predict_n=1, look_back=10, batch_size=39)"
   ]
  },
  {
   "cell_type": "markdown",
   "metadata": {},
   "source": [
    "### Training model"
   ]
  },
  {
   "cell_type": "code",
   "execution_count": 21,
   "metadata": {},
   "outputs": [
    {
     "name": "stderr",
     "output_type": "stream",
     "text": [
      "/home/rio/geomed/Analysis/lstm.py:173: UserWarning: The `nb_epoch` argument in `fit` has been renamed `epochs`.\n",
      "  callbacks=[TB_callback, es, cp]\n",
      "W0810 18:35:40.420260 140457456830208 deprecation.py:323] From /home/rio/anaconda3/envs/infodengue/lib/python3.7/site-packages/tensorflow/python/ops/math_grad.py:1250: add_dispatch_support.<locals>.wrapper (from tensorflow.python.ops.array_ops) is deprecated and will be removed in a future version.\n",
      "Instructions for updating:\n",
      "Use tf.where in 2.0, which has the same broadcast rule as np.where\n",
      "W0810 18:35:41.006979 140457456830208 deprecation_wrapper.py:119] From /home/rio/anaconda3/envs/infodengue/lib/python3.7/site-packages/keras/backend/tensorflow_backend.py:986: The name tf.assign_add is deprecated. Please use tf.compat.v1.assign_add instead.\n",
      "\n"
     ]
    },
    {
     "name": "stdout",
     "output_type": "stream",
     "text": [
      "Train on 198 samples, validate on 36 samples\n"
     ]
    },
    {
     "name": "stderr",
     "output_type": "stream",
     "text": [
      "W0810 18:35:41.801348 140457456830208 deprecation_wrapper.py:119] From /home/rio/anaconda3/envs/infodengue/lib/python3.7/site-packages/keras/callbacks.py:850: The name tf.summary.merge_all is deprecated. Please use tf.compat.v1.summary.merge_all instead.\n",
      "\n",
      "W0810 18:35:41.803156 140457456830208 deprecation_wrapper.py:119] From /home/rio/anaconda3/envs/infodengue/lib/python3.7/site-packages/keras/callbacks.py:853: The name tf.summary.FileWriter is deprecated. Please use tf.compat.v1.summary.FileWriter instead.\n",
      "\n"
     ]
    },
    {
     "name": "stdout",
     "output_type": "stream",
     "text": [
      "Epoch 1/20\n",
      "198/198 [==============================] - 9s 45ms/step - loss: 0.0242 - acc: 0.0000e+00 - mean_absolute_percentage_error: 509.5847 - mean_squared_error: 0.0412 - val_loss: 0.0072 - val_acc: 0.0000e+00 - val_mean_absolute_percentage_error: 1861.8780 - val_mean_squared_error: 0.0080\n",
      "Epoch 2/20\n",
      "198/198 [==============================] - 7s 36ms/step - loss: 0.0193 - acc: 0.0000e+00 - mean_absolute_percentage_error: 619.8330 - mean_squared_error: 0.0334 - val_loss: 0.0021 - val_acc: 0.0000e+00 - val_mean_absolute_percentage_error: 870.1233 - val_mean_squared_error: 0.0023\n",
      "Epoch 3/20\n",
      "198/198 [==============================] - 6s 30ms/step - loss: 0.0129 - acc: 0.0000e+00 - mean_absolute_percentage_error: 338.9778 - mean_squared_error: 0.0235 - val_loss: 0.0015 - val_acc: 0.0000e+00 - val_mean_absolute_percentage_error: 606.0146 - val_mean_squared_error: 0.0016\n",
      "Epoch 4/20\n",
      "198/198 [==============================] - 3s 17ms/step - loss: 0.0095 - acc: 0.0014 - mean_absolute_percentage_error: 238.4702 - mean_squared_error: 0.0176 - val_loss: 0.0017 - val_acc: 0.0000e+00 - val_mean_absolute_percentage_error: 660.6117 - val_mean_squared_error: 0.0019\n",
      "Epoch 5/20\n",
      "198/198 [==============================] - 6s 32ms/step - loss: 0.0086 - acc: 0.0016 - mean_absolute_percentage_error: 202.6032 - mean_squared_error: 0.0160 - val_loss: 0.0011 - val_acc: 0.0000e+00 - val_mean_absolute_percentage_error: 487.7180 - val_mean_squared_error: 0.0012\n",
      "Epoch 6/20\n",
      "198/198 [==============================] - 6s 28ms/step - loss: 0.0074 - acc: 0.0027 - mean_absolute_percentage_error: 182.5396 - mean_squared_error: 0.0138 - val_loss: 0.0015 - val_acc: 0.0000e+00 - val_mean_absolute_percentage_error: 591.1871 - val_mean_squared_error: 0.0017\n",
      "Epoch 7/20\n",
      "198/198 [==============================] - 6s 32ms/step - loss: 0.0067 - acc: 0.0027 - mean_absolute_percentage_error: 179.1748 - mean_squared_error: 0.0126 - val_loss: 8.9359e-04 - val_acc: 0.0000e+00 - val_mean_absolute_percentage_error: 409.8865 - val_mean_squared_error: 9.6376e-04\n",
      "Epoch 8/20\n",
      "198/198 [==============================] - 5s 25ms/step - loss: 0.0064 - acc: 0.0026 - mean_absolute_percentage_error: 177.4306 - mean_squared_error: 0.0122 - val_loss: 4.6034e-04 - val_acc: 0.0000e+00 - val_mean_absolute_percentage_error: 253.7717 - val_mean_squared_error: 4.9532e-04\n",
      "Epoch 9/20\n",
      "198/198 [==============================] - 7s 35ms/step - loss: 0.0062 - acc: 0.0026 - mean_absolute_percentage_error: 150.8736 - mean_squared_error: 0.0120 - val_loss: 8.2166e-04 - val_acc: 0.0000e+00 - val_mean_absolute_percentage_error: 343.4875 - val_mean_squared_error: 8.9723e-04\n",
      "Epoch 10/20\n",
      "198/198 [==============================] - 3s 17ms/step - loss: 0.0062 - acc: 0.0025 - mean_absolute_percentage_error: 166.6920 - mean_squared_error: 0.0118 - val_loss: 5.4693e-04 - val_acc: 0.0000e+00 - val_mean_absolute_percentage_error: 270.9209 - val_mean_squared_error: 5.9672e-04\n",
      "Epoch 11/20\n",
      "198/198 [==============================] - 6s 30ms/step - loss: 0.0058 - acc: 0.0026 - mean_absolute_percentage_error: 147.2797 - mean_squared_error: 0.0110 - val_loss: 6.6989e-04 - val_acc: 0.0000e+00 - val_mean_absolute_percentage_error: 287.1934 - val_mean_squared_error: 7.3647e-04\n",
      "Epoch 12/20\n",
      "198/198 [==============================] - 7s 34ms/step - loss: 0.0060 - acc: 0.0026 - mean_absolute_percentage_error: 159.0244 - mean_squared_error: 0.0115 - val_loss: 8.5225e-04 - val_acc: 0.0000e+00 - val_mean_absolute_percentage_error: 343.4261 - val_mean_squared_error: 9.3146e-04\n",
      "Epoch 13/20\n",
      "198/198 [==============================] - 6s 31ms/step - loss: 0.0057 - acc: 0.0034 - mean_absolute_percentage_error: 144.1491 - mean_squared_error: 0.0110 - val_loss: 8.6408e-04 - val_acc: 0.0000e+00 - val_mean_absolute_percentage_error: 352.7426 - val_mean_squared_error: 9.4272e-04\n",
      "Epoch 14/20\n",
      "198/198 [==============================] - 4s 20ms/step - loss: 0.0059 - acc: 0.0022 - mean_absolute_percentage_error: 146.9795 - mean_squared_error: 0.0115 - val_loss: 9.6996e-04 - val_acc: 0.0000e+00 - val_mean_absolute_percentage_error: 395.3476 - val_mean_squared_error: 0.0011\n",
      "Epoch 15/20\n",
      "198/198 [==============================] - 7s 37ms/step - loss: 0.0055 - acc: 0.0034 - mean_absolute_percentage_error: 148.4883 - mean_squared_error: 0.0105 - val_loss: 8.4861e-04 - val_acc: 0.0000e+00 - val_mean_absolute_percentage_error: 342.0499 - val_mean_squared_error: 9.2835e-04\n",
      "Epoch 16/20\n",
      "198/198 [==============================] - 3s 17ms/step - loss: 0.0053 - acc: 0.0032 - mean_absolute_percentage_error: 148.9851 - mean_squared_error: 0.0102 - val_loss: 7.3993e-04 - val_acc: 0.0000e+00 - val_mean_absolute_percentage_error: 317.0555 - val_mean_squared_error: 8.0694e-04\n",
      "Epoch 17/20\n",
      "198/198 [==============================] - 6s 32ms/step - loss: 0.0053 - acc: 0.0027 - mean_absolute_percentage_error: 144.7283 - mean_squared_error: 0.0103 - val_loss: 8.3055e-04 - val_acc: 0.0000e+00 - val_mean_absolute_percentage_error: 323.8421 - val_mean_squared_error: 9.1110e-04\n",
      "Epoch 18/20\n",
      "198/198 [==============================] - 5s 23ms/step - loss: 0.0056 - acc: 0.0028 - mean_absolute_percentage_error: 145.3856 - mean_squared_error: 0.0108 - val_loss: 5.6847e-04 - val_acc: 0.0000e+00 - val_mean_absolute_percentage_error: 263.9798 - val_mean_squared_error: 6.1947e-04\n",
      "Epoch 19/20\n",
      "198/198 [==============================] - 4s 22ms/step - loss: 0.0053 - acc: 0.0034 - mean_absolute_percentage_error: 138.5573 - mean_squared_error: 0.0101 - val_loss: 4.3751e-04 - val_acc: 0.0000e+00 - val_mean_absolute_percentage_error: 224.1529 - val_mean_squared_error: 4.7769e-04\n",
      "Epoch 20/20\n",
      "198/198 [==============================] - 6s 32ms/step - loss: 0.0052 - acc: 0.0027 - mean_absolute_percentage_error: 140.6514 - mean_squared_error: 0.0101 - val_loss: 5.0762e-04 - val_acc: 0.0000e+00 - val_mean_absolute_percentage_error: 229.1553 - val_mean_squared_error: 5.6222e-04\n"
     ]
    }
   ],
   "source": [
    "hist = train(model, X_train, y_train, batch_size=1, epochs=20, geocode=3304557, overwrite=True)"
   ]
  },
  {
   "cell_type": "markdown",
   "metadata": {},
   "source": [
    "#### Training history"
   ]
  },
  {
   "cell_type": "code",
   "execution_count": 22,
   "metadata": {},
   "outputs": [
    {
     "data": {
      "image/png": "[encoded data removed]",
      "text/plain": [
       "<Figure size 432x288 with 1 Axes>"
      ]
     },
     "metadata": {
      "needs_background": "light"
     },
     "output_type": "display_data"
    }
   ],
   "source": [
    "plot_training_history(hist)"
   ]
  },
  {
   "cell_type": "markdown",
   "metadata": {},
   "source": [
    "#### Plotting predictions "
   ]
  },
  {
   "cell_type": "code",
   "execution_count": 23,
   "metadata": {},
   "outputs": [
    {
     "name": "stdout",
     "output_type": "stream",
     "text": [
      "Compilation Time :  0.02504587173461914\n",
      "_________________________________________________________________\n",
      "Layer (type)                 Output Shape              Param #   \n",
      "=================================================================\n",
      "input_2 (InputLayer)         (478, 10, 7)              0         \n",
      "_________________________________________________________________\n",
      "lstm_4 (LSTM)                (478, 10, 4)              192       \n",
      "_________________________________________________________________\n",
      "dropout_4 (Dropout)          (478, 10, 4)              0         \n",
      "_________________________________________________________________\n",
      "lstm_5 (LSTM)                (478, 10, 4)              144       \n",
      "_________________________________________________________________\n",
      "dropout_5 (Dropout)          (478, 10, 4)              0         \n",
      "_________________________________________________________________\n",
      "lstm_6 (LSTM)                (478, 4)                  144       \n",
      "_________________________________________________________________\n",
      "dropout_6 (Dropout)          (478, 4)                  0         \n",
      "_________________________________________________________________\n",
      "dense_2 (Dense)              (478, 1)                  5         \n",
      "=================================================================\n",
      "Total params: 485\n",
      "Trainable params: 485\n",
      "Non-trainable params: 0\n",
      "_________________________________________________________________\n",
      "None\n"
     ]
    },
    {
     "data": {
      "image/png": "[encoded data removed]",
      "text/plain": [
       "<Figure size 1152x576 with 1 Axes>"
      ]
     },
     "metadata": {
      "needs_background": "light"
     },
     "output_type": "display_data"
    }
   ],
   "source": [
    "X, y = np.concatenate((X_train,X_test), axis=0), np.concatenate((y_train,y_test),axis=0)*max_values.iloc[0]\n",
    "\n",
    "timestamps = data.index[:len(X)]\n",
    "predictions = make_predictions_batch(X, model, hidden=4, features=7, predict_n = 1, look_back=10,\\\n",
    "                                          batch_size=478,n_pred = 100)*max_values.iloc[0]\n",
    "fig, ax = plt.subplots(figsize=(16,8))\n",
    "plot_quantiles(ax,timestamps, predictions[:,:,0],y[:,0],\\\n",
    "               axvline_kw={\"x\": timestamps[len(X_train)], \"linestyle\": \"dashdot\", \"ymin\":0.05,\"ymax\":1, \"color\": \"g\", \"label\":\"train/test split\"})\n",
    "fig.savefig(\"../figures/LSTM_dropout.png\")"
   ]
  },
  {
   "cell_type": "markdown",
   "metadata": {},
   "source": [
    "## Nova Iguaçu\n",
    "\n",
    "Let us now train a model for Nova Iguaçu"
   ]
  },
  {
   "cell_type": "code",
   "execution_count": 60,
   "metadata": {},
   "outputs": [
    {
     "name": "stdout",
     "output_type": "stream",
     "text": [
      "Enter the database password: ········\n"
     ]
    }
   ],
   "source": [
    "os.environ['PSQL_USER']='dengue_ro'\n",
    "os.environ['PSQL_HOST']='localhost'\n",
    "os.environ['PSQL_DB']='dengue_ro'\n",
    "os.environ['PSQL_PASSWORD']=getpass.getpass(\"Enter the database password: \")"
   ]
  },
  {
   "cell_type": "markdown",
   "metadata": {},
   "source": [
    "#### Getting and normalizing  dengue data"
   ]
  },
  {
   "cell_type": "code",
   "execution_count": 61,
   "metadata": {},
   "outputs": [
    {
     "name": "stdout",
     "output_type": "stream",
     "text": [
      "Shape of data:  (282, 7)\n"
     ]
    },
    {
     "data": {
      "text/html": [
       "<div>\n",
       "<style scoped>\n",
       "    .dataframe tbody tr th:only-of-type {\n",
       "        vertical-align: middle;\n",
       "    }\n",
       "\n",
       "    .dataframe tbody tr th {\n",
       "        vertical-align: top;\n",
       "    }\n",
       "\n",
       "    .dataframe thead th {\n",
       "        text-align: right;\n",
       "    }\n",
       "</style>\n",
       "<table border=\"1\" class=\"dataframe\">\n",
       "  <thead>\n",
       "    <tr style=\"text-align: right;\">\n",
       "      <th></th>\n",
       "      <th>casos_3303500</th>\n",
       "      <th>p_rt1_3303500</th>\n",
       "      <th>p_inc100k_3303500</th>\n",
       "      <th>temp_min_3303500</th>\n",
       "      <th>temp_max_3303500</th>\n",
       "      <th>umid_min_3303500</th>\n",
       "      <th>pressao_min_3303500</th>\n",
       "    </tr>\n",
       "  </thead>\n",
       "  <tbody>\n",
       "    <tr>\n",
       "      <th>2012-01-01</th>\n",
       "      <td>0.129338</td>\n",
       "      <td>0.996510</td>\n",
       "      <td>0.129337</td>\n",
       "      <td>0.863720</td>\n",
       "      <td>0.780804</td>\n",
       "      <td>0.715183</td>\n",
       "      <td>0.982919</td>\n",
       "    </tr>\n",
       "    <tr>\n",
       "      <th>2012-01-08</th>\n",
       "      <td>0.201893</td>\n",
       "      <td>0.999718</td>\n",
       "      <td>0.201892</td>\n",
       "      <td>0.839779</td>\n",
       "      <td>0.782101</td>\n",
       "      <td>0.645548</td>\n",
       "      <td>0.986736</td>\n",
       "    </tr>\n",
       "    <tr>\n",
       "      <th>2012-01-15</th>\n",
       "      <td>0.160883</td>\n",
       "      <td>0.814445</td>\n",
       "      <td>0.160883</td>\n",
       "      <td>0.895028</td>\n",
       "      <td>0.856031</td>\n",
       "      <td>0.535959</td>\n",
       "      <td>0.988271</td>\n",
       "    </tr>\n",
       "    <tr>\n",
       "      <th>2012-01-22</th>\n",
       "      <td>0.274448</td>\n",
       "      <td>0.997989</td>\n",
       "      <td>0.274448</td>\n",
       "      <td>0.906077</td>\n",
       "      <td>0.871595</td>\n",
       "      <td>0.537671</td>\n",
       "      <td>0.987434</td>\n",
       "    </tr>\n",
       "    <tr>\n",
       "      <th>2012-01-29</th>\n",
       "      <td>0.315457</td>\n",
       "      <td>0.997224</td>\n",
       "      <td>0.315457</td>\n",
       "      <td>0.856354</td>\n",
       "      <td>0.809339</td>\n",
       "      <td>0.611301</td>\n",
       "      <td>0.987154</td>\n",
       "    </tr>\n",
       "  </tbody>\n",
       "</table>\n",
       "</div>"
      ],
      "text/plain": [
       "            casos_3303500  p_rt1_3303500  p_inc100k_3303500  temp_min_3303500  \\\n",
       "2012-01-01       0.129338       0.996510           0.129337          0.863720   \n",
       "2012-01-08       0.201893       0.999718           0.201892          0.839779   \n",
       "2012-01-15       0.160883       0.814445           0.160883          0.895028   \n",
       "2012-01-22       0.274448       0.997989           0.274448          0.906077   \n",
       "2012-01-29       0.315457       0.997224           0.315457          0.856354   \n",
       "\n",
       "            temp_max_3303500  umid_min_3303500  pressao_min_3303500  \n",
       "2012-01-01          0.780804          0.715183             0.982919  \n",
       "2012-01-08          0.782101          0.645548             0.986736  \n",
       "2012-01-15          0.856031          0.535959             0.988271  \n",
       "2012-01-22          0.871595          0.537671             0.987434  \n",
       "2012-01-29          0.809339          0.611301             0.987154  "
      ]
     },
     "execution_count": 61,
     "metadata": {},
     "output_type": "execute_result"
    }
   ],
   "source": [
    "geocodes = {\"rio\": 3304557, \"n_iguacu\": 3303500}\n",
    "features = ['casos_', 'p_rt1_', 'p_inc100k_',\n",
    "       'temp_min_', 'temp_max_', 'umid_min_',\n",
    "       'pressao_min_']\n",
    "usecols = [f + str(geocodes[\"n_iguacu\"]) for f in features]\n",
    "df, _ = get_cluster_data(geocodes[\"n_iguacu\"], clusters=[], data_types=[\"alerta\", \"weather\"], \\\n",
    "                 cols=None, save=False, doenca='dengue')\n",
    "data=df.loc[:,usecols]\n",
    "timestamps=data.index\n",
    "#data = df[usecols]\n",
    "### Normalizing data\n",
    "min_values = np.min(data,axis=0)\n",
    "max_values = np.max(data,axis=0)\n",
    "data, _ = normalize_data(data)\n",
    "data.index=timestamps\n",
    "print(\"Shape of data: \", data.shape)\n",
    "data.head()\n",
    "#df"
   ]
  },
  {
   "cell_type": "markdown",
   "metadata": {},
   "source": [
    "#### Splitting train/test sets"
   ]
  },
  {
   "cell_type": "code",
   "execution_count": 62,
   "metadata": {},
   "outputs": [
    {
     "name": "stdout",
     "output_type": "stream",
     "text": [
      "train size:  201\n",
      "X_train shape: (201, 10, 7)\t y_train shape: (201, 1)\n",
      "\n",
      "X_test shape: (71, 10, 7)\t y_test shape: (71, 1)\n",
      "\n"
     ]
    }
   ],
   "source": [
    "X_train, y_train, X_test, y_test = split_data(data, look_back=10, ratio=0.75, predict_n=1, Y_column=0)\n",
    "print(\"X_train shape: {}\\t y_train shape: {}\\n\".format(X_train.shape,y_train.shape))\n",
    "print(\"X_test shape: {}\\t y_test shape: {}\\n\".format(X_test.shape,y_test.shape))"
   ]
  },
  {
   "cell_type": "markdown",
   "metadata": {},
   "source": [
    "#### Running model"
   ]
  },
  {
   "cell_type": "code",
   "execution_count": 63,
   "metadata": {},
   "outputs": [
    {
     "name": "stdout",
     "output_type": "stream",
     "text": [
      "Compilation Time :  0.024903059005737305\n",
      "_________________________________________________________________\n",
      "Layer (type)                 Output Shape              Param #   \n",
      "=================================================================\n",
      "input_11 (InputLayer)        (67, 10, 7)               0         \n",
      "_________________________________________________________________\n",
      "lstm_31 (LSTM)               (67, 10, 4)               192       \n",
      "_________________________________________________________________\n",
      "dropout_31 (Dropout)         (67, 10, 4)               0         \n",
      "_________________________________________________________________\n",
      "lstm_32 (LSTM)               (67, 10, 4)               144       \n",
      "_________________________________________________________________\n",
      "dropout_32 (Dropout)         (67, 10, 4)               0         \n",
      "_________________________________________________________________\n",
      "lstm_33 (LSTM)               (67, 4)                   144       \n",
      "_________________________________________________________________\n",
      "dropout_33 (Dropout)         (67, 4)                   0         \n",
      "_________________________________________________________________\n",
      "dense_11 (Dense)             (67, 1)                   5         \n",
      "=================================================================\n",
      "Total params: 485\n",
      "Trainable params: 485\n",
      "Non-trainable params: 0\n",
      "_________________________________________________________________\n",
      "None\n"
     ]
    },
    {
     "name": "stderr",
     "output_type": "stream",
     "text": [
      "/home/rio/geomed/Analysis/lstm.py:173: UserWarning: The `nb_epoch` argument in `fit` has been renamed `epochs`.\n",
      "  callbacks=[TB_callback, es, cp]\n"
     ]
    },
    {
     "name": "stdout",
     "output_type": "stream",
     "text": [
      "Train on 170 samples, validate on 31 samples\n",
      "Epoch 1/20\n",
      "170/170 [==============================] - 8s 46ms/step - loss: 0.0299 - acc: 0.0059 - mean_absolute_percentage_error: 790620.7878 - mean_squared_error: 0.0529 - val_loss: 0.0108 - val_acc: 0.0000e+00 - val_mean_absolute_percentage_error: 268.6704 - val_mean_squared_error: 0.0147\n",
      "Epoch 2/20\n",
      "170/170 [==============================] - 5s 32ms/step - loss: 0.0255 - acc: 0.0059 - mean_absolute_percentage_error: 547584.9587 - mean_squared_error: 0.0460 - val_loss: 0.0101 - val_acc: 0.0000e+00 - val_mean_absolute_percentage_error: 159.8642 - val_mean_squared_error: 0.0141\n",
      "Epoch 3/20\n",
      "170/170 [==============================] - 6s 37ms/step - loss: 0.0186 - acc: 0.0059 - mean_absolute_percentage_error: 247072.2046 - mean_squared_error: 0.0349 - val_loss: 0.0105 - val_acc: 0.0000e+00 - val_mean_absolute_percentage_error: 168.2371 - val_mean_squared_error: 0.0151\n",
      "Epoch 4/20\n",
      "170/170 [==============================] - 4s 24ms/step - loss: 0.0158 - acc: 0.0069 - mean_absolute_percentage_error: 296579.5175 - mean_squared_error: 0.0300 - val_loss: 0.0098 - val_acc: 0.0000e+00 - val_mean_absolute_percentage_error: 131.3079 - val_mean_squared_error: 0.0147\n",
      "Epoch 5/20\n",
      "170/170 [==============================] - 7s 39ms/step - loss: 0.0133 - acc: 0.0069 - mean_absolute_percentage_error: 180064.2673 - mean_squared_error: 0.0255 - val_loss: 0.0079 - val_acc: 0.0000e+00 - val_mean_absolute_percentage_error: 100.1567 - val_mean_squared_error: 0.0119\n",
      "Epoch 6/20\n",
      "170/170 [==============================] - 8s 48ms/step - loss: 0.0116 - acc: 0.0089 - mean_absolute_percentage_error: 211415.2503 - mean_squared_error: 0.0226 - val_loss: 0.0078 - val_acc: 0.0000e+00 - val_mean_absolute_percentage_error: 87.8171 - val_mean_squared_error: 0.0121\n",
      "Epoch 7/20\n",
      "170/170 [==============================] - 5s 31ms/step - loss: 0.0106 - acc: 0.0092 - mean_absolute_percentage_error: 301621.5825 - mean_squared_error: 0.0206 - val_loss: 0.0056 - val_acc: 0.0000e+00 - val_mean_absolute_percentage_error: 99.5479 - val_mean_squared_error: 0.0086\n",
      "Epoch 8/20\n",
      "170/170 [==============================] - 7s 42ms/step - loss: 0.0101 - acc: 0.0083 - mean_absolute_percentage_error: 195771.8253 - mean_squared_error: 0.0201 - val_loss: 0.0079 - val_acc: 0.0000e+00 - val_mean_absolute_percentage_error: 114.0185 - val_mean_squared_error: 0.0130\n",
      "Epoch 9/20\n",
      "170/170 [==============================] - 8s 45ms/step - loss: 0.0095 - acc: 0.0101 - mean_absolute_percentage_error: 150063.7425 - mean_squared_error: 0.0189 - val_loss: 0.0064 - val_acc: 0.0000e+00 - val_mean_absolute_percentage_error: 78.7991 - val_mean_squared_error: 0.0095\n",
      "Epoch 10/20\n",
      "170/170 [==============================] - 5s 31ms/step - loss: 0.0095 - acc: 0.0093 - mean_absolute_percentage_error: 271078.9131 - mean_squared_error: 0.0189 - val_loss: 0.0058 - val_acc: 0.0000e+00 - val_mean_absolute_percentage_error: 79.0541 - val_mean_squared_error: 0.0091\n",
      "Epoch 11/20\n",
      "170/170 [==============================] - 7s 43ms/step - loss: 0.0091 - acc: 0.0095 - mean_absolute_percentage_error: 182977.7113 - mean_squared_error: 0.0181 - val_loss: 0.0058 - val_acc: 0.0000e+00 - val_mean_absolute_percentage_error: 73.7375 - val_mean_squared_error: 0.0086\n",
      "Epoch 12/20\n",
      "170/170 [==============================] - 8s 49ms/step - loss: 0.0086 - acc: 0.0081 - mean_absolute_percentage_error: 205519.3837 - mean_squared_error: 0.0174 - val_loss: 0.0062 - val_acc: 0.0000e+00 - val_mean_absolute_percentage_error: 74.1279 - val_mean_squared_error: 0.0092\n",
      "Epoch 13/20\n",
      "170/170 [==============================] - 4s 26ms/step - loss: 0.0086 - acc: 0.0090 - mean_absolute_percentage_error: 206444.5603 - mean_squared_error: 0.0172 - val_loss: 0.0059 - val_acc: 0.0000e+00 - val_mean_absolute_percentage_error: 78.7665 - val_mean_squared_error: 0.0090\n",
      "Epoch 14/20\n",
      "170/170 [==============================] - 7s 43ms/step - loss: 0.0085 - acc: 0.0097 - mean_absolute_percentage_error: 189241.8691 - mean_squared_error: 0.0173 - val_loss: 0.0069 - val_acc: 0.0000e+00 - val_mean_absolute_percentage_error: 86.2477 - val_mean_squared_error: 0.0113\n",
      "Epoch 15/20\n",
      "170/170 [==============================] - 6s 36ms/step - loss: 0.0086 - acc: 0.0095 - mean_absolute_percentage_error: 271350.0797 - mean_squared_error: 0.0172 - val_loss: 0.0055 - val_acc: 0.0000e+00 - val_mean_absolute_percentage_error: 82.1337 - val_mean_squared_error: 0.0086\n",
      "Epoch 16/20\n",
      "170/170 [==============================] - 4s 26ms/step - loss: 0.0085 - acc: 0.0095 - mean_absolute_percentage_error: 154236.2091 - mean_squared_error: 0.0172 - val_loss: 0.0064 - val_acc: 0.0000e+00 - val_mean_absolute_percentage_error: 92.0426 - val_mean_squared_error: 0.0107\n",
      "Epoch 17/20\n",
      "170/170 [==============================] - 7s 42ms/step - loss: 0.0083 - acc: 0.0083 - mean_absolute_percentage_error: 214376.7579 - mean_squared_error: 0.0168 - val_loss: 0.0065 - val_acc: 0.0000e+00 - val_mean_absolute_percentage_error: 79.7383 - val_mean_squared_error: 0.0105\n",
      "Epoch 18/20\n",
      "170/170 [==============================] - 5s 32ms/step - loss: 0.0081 - acc: 0.0096 - mean_absolute_percentage_error: 134739.7201 - mean_squared_error: 0.0162 - val_loss: 0.0065 - val_acc: 0.0000e+00 - val_mean_absolute_percentage_error: 80.6366 - val_mean_squared_error: 0.0104\n",
      "Epoch 19/20\n",
      "170/170 [==============================] - 6s 33ms/step - loss: 0.0079 - acc: 0.0096 - mean_absolute_percentage_error: 219401.1965 - mean_squared_error: 0.0162 - val_loss: 0.0074 - val_acc: 0.0000e+00 - val_mean_absolute_percentage_error: 98.4899 - val_mean_squared_error: 0.0127\n",
      "Epoch 20/20\n",
      "170/170 [==============================] - 7s 40ms/step - loss: 0.0078 - acc: 0.0097 - mean_absolute_percentage_error: 104832.2795 - mean_squared_error: 0.0158 - val_loss: 0.0063 - val_acc: 0.0000e+00 - val_mean_absolute_percentage_error: 82.4946 - val_mean_squared_error: 0.0102\n"
     ]
    }
   ],
   "source": [
    "batch_size=67\n",
    "model = build_model(hidden=4, features=7, predict_n=1, look_back=10, batch_size=batch_size)\n",
    "hist = train(model, X_train, y_train, batch_size=1, epochs=20, geocode=geocodes[\"n_iguacu\"], overwrite=True)"
   ]
  },
  {
   "cell_type": "markdown",
   "metadata": {},
   "source": [
    "#### Plotting results \n",
    "Note that we reload and recompile the trained model."
   ]
  },
  {
   "cell_type": "code",
   "execution_count": 68,
   "metadata": {},
   "outputs": [
    {
     "name": "stdout",
     "output_type": "stream",
     "text": [
      "Compilation Time :  0.02573227882385254\n",
      "_________________________________________________________________\n",
      "Layer (type)                 Output Shape              Param #   \n",
      "=================================================================\n",
      "input_14 (InputLayer)        (1, 10, 7)                0         \n",
      "_________________________________________________________________\n",
      "lstm_40 (LSTM)               (1, 10, 4)                192       \n",
      "_________________________________________________________________\n",
      "dropout_40 (Dropout)         (1, 10, 4)                0         \n",
      "_________________________________________________________________\n",
      "lstm_41 (LSTM)               (1, 10, 4)                144       \n",
      "_________________________________________________________________\n",
      "dropout_41 (Dropout)         (1, 10, 4)                0         \n",
      "_________________________________________________________________\n",
      "lstm_42 (LSTM)               (1, 4)                    144       \n",
      "_________________________________________________________________\n",
      "dropout_42 (Dropout)         (1, 4)                    0         \n",
      "_________________________________________________________________\n",
      "dense_14 (Dense)             (1, 1)                    5         \n",
      "=================================================================\n",
      "Total params: 485\n",
      "Trainable params: 485\n",
      "Non-trainable params: 0\n",
      "_________________________________________________________________\n",
      "None\n"
     ]
    },
    {
     "data": {
      "image/png": "[encoded data removed]",
      "text/plain": [
       "<Figure size 1152x576 with 1 Axes>"
      ]
     },
     "metadata": {
      "needs_background": "light"
     },
     "output_type": "display_data"
    }
   ],
   "source": [
    "### formatting data and loading model\n",
    "X, y = np.concatenate((X_train,X_test), axis=0), np.concatenate((y_train,y_test),axis=0)*max_values.iloc[0]\n",
    "\n",
    "timestamps = data.index[:len(X)]\n",
    "predictions = make_predictions_batch(X, model, hidden=4, features=7, predict_n = 1, look_back=10,\\\n",
    "                                          batch_size=1,n_pred = 100)*max_values.iloc[0]\n",
    "\n",
    "### Plotting\n",
    "plot=\"median\"\n",
    "confidence=95\n",
    "data_kw={\"label\": \"data\",\"color\":\"black\"}\n",
    "pred_kw = {\"color\":\"red\"}\n",
    "fill_kw={\"color\":\"blue\",\"alpha\":0.3,\"label\": \"{} confidence interval\".format(confidence)}\n",
    "title_kw={\"label\": \"Predictions for Nova Iguaçu\",\"fontsize\":20}\n",
    "xlabel_kw = {\"xlabel\": \"time\",\"fontsize\":14}\n",
    "ylabel_kw={\"ylabel\":\"Incidence\",\"fontsize\":14}\n",
    "axvline_kw={\"x\": timestamps[len(X_train)], \"linestyle\": \"dashdot\", \"ymin\":0.05,\"ymax\":1, \"color\": \"g\", \"label\":\"train/test split\"}\n",
    "grid_params={}\n",
    "\n",
    "fig, ax = plt.subplots(figsize=(16,8))\n",
    "plot_quantiles(ax,timestamps, predictions[:,:,0],y[:,0],plot,confidence,data_kw,pred_kw,fill_kw,\\\n",
    "               title_kw,xlabel_kw,ylabel_kw,axvline_kw)\n",
    "### saving figure\n",
    "fig.savefig(\"../figures/LSTM_{}_dropout.png\".format(geocodes[\"n_iguacu\"]))"
   ]
  }
 ],
 "metadata": {
  "kernelspec": {
   "display_name": "Python 3",
   "language": "python",
   "name": "python3"
  },
  "language_info": {
   "codemirror_mode": {
    "name": "ipython",
    "version": 3
   },
   "file_extension": ".py",
   "mimetype": "text/x-python",
   "name": "python",
   "nbconvert_exporter": "python",
   "pygments_lexer": "ipython3",
   "version": "3.7.3"
  },
  "varInspector": {
   "cols": {
    "lenName": 16,
    "lenType": 16,
    "lenVar": 40
   },
   "kernels_config": {
    "python": {
     "delete_cmd_postfix": "",
     "delete_cmd_prefix": "del ",
     "library": "var_list.py",
     "varRefreshCmd": "print(var_dic_list())"
    },
    "r": {
     "delete_cmd_postfix": ") ",
     "delete_cmd_prefix": "rm(",
     "library": "var_list.r",
     "varRefreshCmd": "cat(var_dic_list()) "
    }
   },
   "types_to_exclude": [
    "module",
    "function",
    "builtin_function_or_method",
    "instance",
    "_Feature"
   ],
   "window_display": false
  }
 },
 "nbformat": 4,
 "nbformat_minor": 2
}
